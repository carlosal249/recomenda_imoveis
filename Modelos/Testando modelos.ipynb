{
 "cells": [
  {
   "cell_type": "code",
   "execution_count": 30,
   "metadata": {},
   "outputs": [],
   "source": [
    "from sklearn.model_selection import train_test_split\n",
    "from sklearn.preprocessing import LabelEncoder\n",
    "from sklearn.preprocessing import MaxAbsScaler\n",
    "\n",
    "import pandas as pd\n",
    "import numpy as np\n",
    "import random\n",
    "\n",
    "# Model Evaluation\n",
    "from sklearn.metrics import average_precision_score, roc_auc_score\n",
    "\n",
    "# Model\n",
    "from sklearn.ensemble import RandomForestClassifier\n",
    "from lightgbm import LGBMClassifier\n",
    "from sklearn.linear_model import LogisticRegression"
   ]
  },
  {
   "cell_type": "code",
   "execution_count": 31,
   "metadata": {},
   "outputs": [
    {
     "data": {
      "text/html": [
       "<div>\n",
       "<style scoped>\n",
       "    .dataframe tbody tr th:only-of-type {\n",
       "        vertical-align: middle;\n",
       "    }\n",
       "\n",
       "    .dataframe tbody tr th {\n",
       "        vertical-align: top;\n",
       "    }\n",
       "\n",
       "    .dataframe thead th {\n",
       "        text-align: right;\n",
       "    }\n",
       "</style>\n",
       "<table border=\"1\" class=\"dataframe\">\n",
       "  <thead>\n",
       "    <tr style=\"text-align: right;\">\n",
       "      <th></th>\n",
       "      <th>tipo_imovel</th>\n",
       "      <th>m_quadrado</th>\n",
       "      <th>qntd_quartos</th>\n",
       "      <th>rua_imovel</th>\n",
       "      <th>bairro_imovel</th>\n",
       "      <th>aluguel</th>\n",
       "      <th>preco_total</th>\n",
       "      <th>img_imovel</th>\n",
       "      <th>e_seguro</th>\n",
       "      <th>y</th>\n",
       "    </tr>\n",
       "  </thead>\n",
       "  <tbody>\n",
       "    <tr>\n",
       "      <th>0</th>\n",
       "      <td>Apartamento</td>\n",
       "      <td>25</td>\n",
       "      <td>1</td>\n",
       "      <td>RuaGenebra</td>\n",
       "      <td>BelaVista</td>\n",
       "      <td>1.950</td>\n",
       "      <td>2.375</td>\n",
       "      <td>https://www.quintoandar.com.br/img/med/8929948...</td>\n",
       "      <td>0</td>\n",
       "      <td>1</td>\n",
       "    </tr>\n",
       "    <tr>\n",
       "      <th>1</th>\n",
       "      <td>Apartamento</td>\n",
       "      <td>50</td>\n",
       "      <td>1</td>\n",
       "      <td>RuaAbolição</td>\n",
       "      <td>BelaVista</td>\n",
       "      <td>2.116</td>\n",
       "      <td>2.623</td>\n",
       "      <td>https://www.quintoandar.com.br/img/med/8929948...</td>\n",
       "      <td>0</td>\n",
       "      <td>0</td>\n",
       "    </tr>\n",
       "    <tr>\n",
       "      <th>2</th>\n",
       "      <td>Apartamento</td>\n",
       "      <td>56</td>\n",
       "      <td>1</td>\n",
       "      <td>RuaBrigadeiroTobias</td>\n",
       "      <td>Centro</td>\n",
       "      <td>1.000</td>\n",
       "      <td>1.456</td>\n",
       "      <td>https://www.quintoandar.com.br/img/med/8929307...</td>\n",
       "      <td>0</td>\n",
       "      <td>1</td>\n",
       "    </tr>\n",
       "  </tbody>\n",
       "</table>\n",
       "</div>"
      ],
      "text/plain": [
       "   tipo_imovel  m_quadrado  qntd_quartos           rua_imovel bairro_imovel  \\\n",
       "0  Apartamento          25             1           RuaGenebra     BelaVista   \n",
       "1  Apartamento          50             1          RuaAbolição     BelaVista   \n",
       "2  Apartamento          56             1  RuaBrigadeiroTobias        Centro   \n",
       "\n",
       "   aluguel  preco_total                                         img_imovel  \\\n",
       "0    1.950        2.375  https://www.quintoandar.com.br/img/med/8929948...   \n",
       "1    2.116        2.623  https://www.quintoandar.com.br/img/med/8929948...   \n",
       "2    1.000        1.456  https://www.quintoandar.com.br/img/med/8929307...   \n",
       "\n",
       "   e_seguro  y  \n",
       "0         0  1  \n",
       "1         0  0  \n",
       "2         0  1  "
      ]
     },
     "execution_count": 31,
     "metadata": {},
     "output_type": "execute_result"
    }
   ],
   "source": [
    "path = '../data_treino1.csv'\n",
    "\n",
    "data = pd.read_csv(path, sep=',')\n",
    "data.head(3)"
   ]
  },
  {
   "cell_type": "code",
   "execution_count": 32,
   "metadata": {},
   "outputs": [
    {
     "data": {
      "text/html": [
       "<div>\n",
       "<style scoped>\n",
       "    .dataframe tbody tr th:only-of-type {\n",
       "        vertical-align: middle;\n",
       "    }\n",
       "\n",
       "    .dataframe tbody tr th {\n",
       "        vertical-align: top;\n",
       "    }\n",
       "\n",
       "    .dataframe thead th {\n",
       "        text-align: right;\n",
       "    }\n",
       "</style>\n",
       "<table border=\"1\" class=\"dataframe\">\n",
       "  <thead>\n",
       "    <tr style=\"text-align: right;\">\n",
       "      <th></th>\n",
       "      <th>tipo_imovel</th>\n",
       "      <th>m_quadrado</th>\n",
       "      <th>qntd_quartos</th>\n",
       "      <th>rua_imovel</th>\n",
       "      <th>bairro_imovel</th>\n",
       "      <th>aluguel</th>\n",
       "      <th>preco_total</th>\n",
       "      <th>img_imovel</th>\n",
       "      <th>e_seguro</th>\n",
       "      <th>y</th>\n",
       "    </tr>\n",
       "  </thead>\n",
       "  <tbody>\n",
       "    <tr>\n",
       "      <th>0</th>\n",
       "      <td>Studio e kitnet</td>\n",
       "      <td>29</td>\n",
       "      <td>1</td>\n",
       "      <td>RuadaGlória</td>\n",
       "      <td>Liberdade</td>\n",
       "      <td>2.600</td>\n",
       "      <td>2.854</td>\n",
       "      <td>www.quintoandar.com.br/img/med/893123455-727.1...</td>\n",
       "      <td>0</td>\n",
       "      <td>0</td>\n",
       "    </tr>\n",
       "    <tr>\n",
       "      <th>1</th>\n",
       "      <td>Studio e kitnet</td>\n",
       "      <td>28</td>\n",
       "      <td>1</td>\n",
       "      <td>RuadaGlória</td>\n",
       "      <td>Liberdade</td>\n",
       "      <td>2.500</td>\n",
       "      <td>2.744</td>\n",
       "      <td>www.quintoandar.com.br/img/med/893122647-339.9...</td>\n",
       "      <td>0</td>\n",
       "      <td>0</td>\n",
       "    </tr>\n",
       "    <tr>\n",
       "      <th>2</th>\n",
       "      <td>Casa</td>\n",
       "      <td>30</td>\n",
       "      <td>1</td>\n",
       "      <td>RuaJoãodeCarvalho</td>\n",
       "      <td>Liberdade</td>\n",
       "      <td>1.897</td>\n",
       "      <td>1.929</td>\n",
       "      <td>www.quintoandar.com.br/img/med/893119431-276.5...</td>\n",
       "      <td>0</td>\n",
       "      <td>1</td>\n",
       "    </tr>\n",
       "    <tr>\n",
       "      <th>3</th>\n",
       "      <td>Apartamento</td>\n",
       "      <td>40</td>\n",
       "      <td>1</td>\n",
       "      <td>AvenidaRangelPestana</td>\n",
       "      <td>Liberdade</td>\n",
       "      <td>1.260</td>\n",
       "      <td>1.726</td>\n",
       "      <td>www.quintoandar.com.br/img/med/893120782-452.3...</td>\n",
       "      <td>0</td>\n",
       "      <td>1</td>\n",
       "    </tr>\n",
       "    <tr>\n",
       "      <th>4</th>\n",
       "      <td>Studio e kitnet</td>\n",
       "      <td>25</td>\n",
       "      <td>1</td>\n",
       "      <td>RuaConselheiroFurtado</td>\n",
       "      <td>Liberdade</td>\n",
       "      <td>1.900</td>\n",
       "      <td>2.249</td>\n",
       "      <td>www.quintoandar.com.br/img/med/893114519-409.7...</td>\n",
       "      <td>0</td>\n",
       "      <td>0</td>\n",
       "    </tr>\n",
       "  </tbody>\n",
       "</table>\n",
       "</div>"
      ],
      "text/plain": [
       "       tipo_imovel  m_quadrado  qntd_quartos             rua_imovel  \\\n",
       "0  Studio e kitnet          29             1            RuadaGlória   \n",
       "1  Studio e kitnet          28             1            RuadaGlória   \n",
       "2             Casa          30             1      RuaJoãodeCarvalho   \n",
       "3      Apartamento          40             1   AvenidaRangelPestana   \n",
       "4  Studio e kitnet          25             1  RuaConselheiroFurtado   \n",
       "\n",
       "  bairro_imovel  aluguel  preco_total  \\\n",
       "0     Liberdade    2.600        2.854   \n",
       "1     Liberdade    2.500        2.744   \n",
       "2     Liberdade    1.897        1.929   \n",
       "3     Liberdade    1.260        1.726   \n",
       "4     Liberdade    1.900        2.249   \n",
       "\n",
       "                                          img_imovel  e_seguro  y  \n",
       "0  www.quintoandar.com.br/img/med/893123455-727.1...         0  0  \n",
       "1  www.quintoandar.com.br/img/med/893122647-339.9...         0  0  \n",
       "2  www.quintoandar.com.br/img/med/893119431-276.5...         0  1  \n",
       "3  www.quintoandar.com.br/img/med/893120782-452.3...         0  1  \n",
       "4  www.quintoandar.com.br/img/med/893114519-409.7...         0  0  "
      ]
     },
     "execution_count": 32,
     "metadata": {},
     "output_type": "execute_result"
    }
   ],
   "source": [
    "path2 = '../13-08-20_comy.csv'\n",
    "path3 = '../14-08-20comy.csv'\n",
    "\n",
    "data2 = pd.read_csv(path2, sep=',')\n",
    "data3 = pd.read_csv(path3, sep=',')\n",
    "data2.head()"
   ]
  },
  {
   "cell_type": "code",
   "execution_count": 33,
   "metadata": {},
   "outputs": [
    {
     "name": "stdout",
     "output_type": "stream",
     "text": [
      "treinaremos com:122\n"
     ]
    }
   ],
   "source": [
    "df = pd.concat([data, data2, data3])\n",
    "print(f'treinaremos com:{df.shape[0]}')"
   ]
  },
  {
   "cell_type": "code",
   "execution_count": 36,
   "metadata": {},
   "outputs": [],
   "source": [
    "le_tipo = LabelEncoder().fit(df['tipo_imovel'])\n",
    "le_rua  = LabelEncoder().fit(df['rua_imovel'])\n",
    "le_bairro=LabelEncoder().fit(df['bairro_imovel'])\n",
    "\n",
    "df['tipo_imovel'] = le_tipo.transform(df['tipo_imovel'])\n",
    "df['rua_imovel'] = le_rua.transform(df['rua_imovel'])\n",
    "df['bairro_imovel'] = le_bairro.transform(df['bairro_imovel']) "
   ]
  },
  {
   "cell_type": "code",
   "execution_count": 79,
   "metadata": {},
   "outputs": [
    {
     "data": {
      "text/plain": [
       "['label_bairro_imovel.pkl.z']"
      ]
     },
     "execution_count": 79,
     "metadata": {},
     "output_type": "execute_result"
    }
   ],
   "source": [
    "jb.dump(le_tipo, 'label_tipo_imovel.pkl.z')\n",
    "jb.dump(le_rua, 'label_rua_imovel.pkl.z')\n",
    "jb.dump(le_bairro, 'label_bairro_imovel.pkl.z')"
   ]
  },
  {
   "cell_type": "code",
   "execution_count": 35,
   "metadata": {},
   "outputs": [
    {
     "data": {
      "text/plain": [
       "pandas.core.frame.DataFrame"
      ]
     },
     "execution_count": 35,
     "metadata": {},
     "output_type": "execute_result"
    }
   ],
   "source": [
    "type(df)"
   ]
  },
  {
   "cell_type": "code",
   "execution_count": 18,
   "metadata": {},
   "outputs": [
    {
     "data": {
      "text/plain": [
       "array([0, 1, 2, 3])"
      ]
     },
     "execution_count": 18,
     "metadata": {},
     "output_type": "execute_result"
    }
   ],
   "source": [
    "le_tipo.classes_"
   ]
  },
  {
   "cell_type": "code",
   "execution_count": 10,
   "metadata": {},
   "outputs": [
    {
     "data": {
      "text/plain": [
       "array(['Aclimação', 'BelaVista', 'BomRetiro', 'Brás', 'Cambuci', 'Centro',\n",
       "       'Consolação', 'Liberdade', 'Mooca', 'SantaCecília'], dtype=object)"
      ]
     },
     "execution_count": 10,
     "metadata": {},
     "output_type": "execute_result"
    }
   ],
   "source": [
    "le.classes_"
   ]
  },
  {
   "cell_type": "code",
   "execution_count": 37,
   "metadata": {},
   "outputs": [
    {
     "name": "stdout",
     "output_type": "stream",
     "text": [
      "Treinaremos com X:(109, 8), Y:(109,)\n",
      "Treinaremos com X:(13, 8), Y:(13,)\n"
     ]
    }
   ],
   "source": [
    "x = df.drop(['y','img_imovel'] ,axis=1)\n",
    "y = df['y']\n",
    "x_treino, x_val, y_treino, y_val = train_test_split(x, y, test_size=0.1)\n",
    "\n",
    "print(f\"Treinaremos com X:{x_treino.shape}, Y:{y_treino.shape}\")\n",
    "print(f\"Treinaremos com X:{x_val.shape}, Y:{y_val.shape}\")"
   ]
  },
  {
   "cell_type": "markdown",
   "metadata": {},
   "source": [
    "# Modelagem"
   ]
  },
  {
   "cell_type": "code",
   "execution_count": 40,
   "metadata": {},
   "outputs": [],
   "source": [
    "def avaliar_modelo(predicted_value, y_true):    \n",
    "    ap = average_precision_score(predicted_value, y_true)\n",
    "    roc = roc_auc_score(predicted_value, y_true)\n",
    "    \n",
    "    print(\"=\"*30)\n",
    "    print('Model summary:')\n",
    "    print(f'Avarege precision: {round(ap, 5)}')\n",
    "    print(f'Roc: {round(roc, 5)}')\n",
    "    print(\"=\"*30)"
   ]
  },
  {
   "cell_type": "code",
   "execution_count": 71,
   "metadata": {},
   "outputs": [
    {
     "data": {
      "text/plain": [
       "array([0.16      , 0.35      , 0.36166667, 0.67      , 0.505     ,\n",
       "       0.922     , 0.82      , 0.05      , 0.17875   , 0.79      ,\n",
       "       0.37      , 0.84      , 0.15      ])"
      ]
     },
     "execution_count": 71,
     "metadata": {},
     "output_type": "execute_result"
    }
   ],
   "source": [
    "resultados[:,1]"
   ]
  },
  {
   "cell_type": "code",
   "execution_count": 81,
   "metadata": {},
   "outputs": [
    {
     "name": "stderr",
     "output_type": "stream",
     "text": [
      "C:\\Users\\caooc\\AppData\\Local\\Programs\\Python\\Python37\\lib\\site-packages\\pandas\\core\\frame.py:3997: SettingWithCopyWarning: \n",
      "A value is trying to be set on a copy of a slice from a DataFrame\n",
      "\n",
      "See the caveats in the documentation: https://pandas.pydata.org/pandas-docs/stable/user_guide/indexing.html#returning-a-view-versus-a-copy\n",
      "  errors=errors,\n"
     ]
    }
   ],
   "source": [
    "x_val.drop('teste', axis=1, inplace=True)"
   ]
  },
  {
   "cell_type": "code",
   "execution_count": 63,
   "metadata": {},
   "outputs": [
    {
     "data": {
      "text/plain": [
       "array([0.63833333, 0.36166667])"
      ]
     },
     "execution_count": 63,
     "metadata": {},
     "output_type": "execute_result"
    }
   ],
   "source": [
    "resultados[2]"
   ]
  },
  {
   "cell_type": "code",
   "execution_count": 45,
   "metadata": {},
   "outputs": [],
   "source": [
    "import matplotlib.pyplot as plt\n",
    "import seaborn as sns\n",
    "\n",
    "def plot_feature_importance(importance,names,model_type):\n",
    "    # Cria uma lista de vars\n",
    "    feature_importance = np.array(importance)\n",
    "    feature_names = np.array(names)\n",
    "\n",
    "    # Cria um dataframe\n",
    "    data={'feature_names':feature_names,'feature_importance':feature_importance}\n",
    "    fi_df = pd.DataFrame(data)\n",
    "\n",
    "    fi_df.sort_values(by=['feature_importance'], ascending=False,inplace=True)\n",
    "\n",
    "    plt.figure(figsize=(10,8))\n",
    "    sns.barplot(x=fi_df['feature_importance'], y=fi_df['feature_names'])\n",
    "\n",
    "    plt.title(model_type + 'Importancia das variaveis')\n",
    "    plt.xlabel('Importancia')\n",
    "    plt.ylabel('Nome da variavel')\n"
   ]
  },
  {
   "cell_type": "code",
   "execution_count": 46,
   "metadata": {},
   "outputs": [
    {
     "data": {
      "image/png": "[encoded data removed]",
      "text/plain": [
       "<Figure size 720x576 with 1 Axes>"
      ]
     },
     "metadata": {
      "needs_background": "light"
     },
     "output_type": "display_data"
    }
   ],
   "source": [
    "plot_feature_importance(model_rf.feature_importances_, x_val.columns, 'random_forest')"
   ]
  },
  {
   "cell_type": "code",
   "execution_count": 41,
   "metadata": {},
   "outputs": [
    {
     "name": "stdout",
     "output_type": "stream",
     "text": [
      "==============================\n",
      "Model summary:\n",
      "Avarege precision: 0.91026\n",
      "Roc: 0.91667\n",
      "==============================\n"
     ]
    }
   ],
   "source": [
    "model_rf = RandomForestClassifier(random_state=0)\n",
    "model_rf.fit(x_treino, y_treino)\n",
    "preds = model_rf.predict(x_val)\n",
    "avaliar_modelo(preds, y_val)"
   ]
  },
  {
   "cell_type": "code",
   "execution_count": 73,
   "metadata": {},
   "outputs": [
    {
     "name": "stdout",
     "output_type": "stream",
     "text": [
      "==============================\n",
      "Model summary:\n",
      "Avarege precision: 0.71692\n",
      "Roc: 0.8375\n",
      "==============================\n"
     ]
    }
   ],
   "source": [
    "# Light GBM - um dos meus modelos favoritos <3\n",
    "model_lgb = LGBMClassifier(random_state=0, n_jobs=6)\n",
    "model_lgb.fit(x_treino, y_treino)\n",
    "preds = model_lgb.predict(x_val)\n",
    "avaliar_modelo(preds, y_val)"
   ]
  },
  {
   "cell_type": "code",
   "execution_count": 85,
   "metadata": {},
   "outputs": [
    {
     "data": {
      "text/plain": [
       "array([0.31274516, 0.25474954, 0.28008749, 0.63567404, 0.62926721,\n",
       "       0.88350741, 0.75323256, 0.14369158, 0.13788587, 0.87917645,\n",
       "       0.26163199, 0.62052549, 0.11373534])"
      ]
     },
     "execution_count": 85,
     "metadata": {},
     "output_type": "execute_result"
    }
   ],
   "source": [
    "resultados_rf = model_rf.predict_proba(x_val)\n",
    "resultados_lgb = model_lgb.predict_proba(x_val)\n",
    "p = 0.6 * resultados_lgb[:, 1] + 0.4* resultados_rf[:, 1]\n",
    "p"
   ]
  },
  {
   "cell_type": "code",
   "execution_count": 84,
   "metadata": {
    "collapsed": true
   },
   "outputs": [
    {
     "name": "stderr",
     "output_type": "stream",
     "text": [
      "C:\\Users\\caooc\\AppData\\Local\\Programs\\Python\\Python37\\lib\\site-packages\\sklearn\\metrics\\_ranking.py:677: RuntimeWarning: invalid value encountered in true_divide\n",
      "  recall = tps / tps[-1]\n"
     ]
    },
    {
     "ename": "ValueError",
     "evalue": "Input contains NaN, infinity or a value too large for dtype('float64').",
     "output_type": "error",
     "traceback": [
      "\u001b[1;31m---------------------------------------------------------------------------\u001b[0m",
      "\u001b[1;31mValueError\u001b[0m                                Traceback (most recent call last)",
      "\u001b[1;32m<ipython-input-84-ce6fcec24117>\u001b[0m in \u001b[0;36m<module>\u001b[1;34m\u001b[0m\n\u001b[0;32m     33\u001b[0m \u001b[1;33m\u001b[0m\u001b[0m\n\u001b[0;32m     34\u001b[0m res = forest_minimize(tune_lgbm, space, random_state=160,\n\u001b[1;32m---> 35\u001b[1;33m                       n_random_starts=20, n_calls=40)\n\u001b[0m",
      "\u001b[1;32m~\\AppData\\Local\\Programs\\Python\\Python37\\lib\\site-packages\\skopt\\optimizer\\forest.py\u001b[0m in \u001b[0;36mforest_minimize\u001b[1;34m(func, dimensions, base_estimator, n_calls, n_random_starts, acq_func, x0, y0, random_state, verbose, callback, n_points, xi, kappa, n_jobs, model_queue_size)\u001b[0m\n\u001b[0;32m    174\u001b[0m                          \u001b[0mxi\u001b[0m\u001b[1;33m=\u001b[0m\u001b[0mxi\u001b[0m\u001b[1;33m,\u001b[0m \u001b[0mkappa\u001b[0m\u001b[1;33m=\u001b[0m\u001b[0mkappa\u001b[0m\u001b[1;33m,\u001b[0m \u001b[0mverbose\u001b[0m\u001b[1;33m=\u001b[0m\u001b[0mverbose\u001b[0m\u001b[1;33m,\u001b[0m\u001b[1;33m\u001b[0m\u001b[1;33m\u001b[0m\u001b[0m\n\u001b[0;32m    175\u001b[0m                          \u001b[0mcallback\u001b[0m\u001b[1;33m=\u001b[0m\u001b[0mcallback\u001b[0m\u001b[1;33m,\u001b[0m \u001b[0macq_optimizer\u001b[0m\u001b[1;33m=\u001b[0m\u001b[1;34m\"sampling\"\u001b[0m\u001b[1;33m,\u001b[0m\u001b[1;33m\u001b[0m\u001b[1;33m\u001b[0m\u001b[0m\n\u001b[1;32m--> 176\u001b[1;33m                          model_queue_size=model_queue_size)\n\u001b[0m",
      "\u001b[1;32m~\\AppData\\Local\\Programs\\Python\\Python37\\lib\\site-packages\\skopt\\optimizer\\base.py\u001b[0m in \u001b[0;36mbase_minimize\u001b[1;34m(func, dimensions, base_estimator, n_calls, n_random_starts, acq_func, acq_optimizer, x0, y0, random_state, verbose, callback, n_points, n_restarts_optimizer, xi, kappa, n_jobs, model_queue_size)\u001b[0m\n\u001b[0;32m    271\u001b[0m         \u001b[0mnext_x\u001b[0m \u001b[1;33m=\u001b[0m \u001b[0moptimizer\u001b[0m\u001b[1;33m.\u001b[0m\u001b[0mask\u001b[0m\u001b[1;33m(\u001b[0m\u001b[1;33m)\u001b[0m\u001b[1;33m\u001b[0m\u001b[1;33m\u001b[0m\u001b[0m\n\u001b[0;32m    272\u001b[0m         \u001b[0mnext_y\u001b[0m \u001b[1;33m=\u001b[0m \u001b[0mfunc\u001b[0m\u001b[1;33m(\u001b[0m\u001b[0mnext_x\u001b[0m\u001b[1;33m)\u001b[0m\u001b[1;33m\u001b[0m\u001b[1;33m\u001b[0m\u001b[0m\n\u001b[1;32m--> 273\u001b[1;33m         \u001b[0mresult\u001b[0m \u001b[1;33m=\u001b[0m \u001b[0moptimizer\u001b[0m\u001b[1;33m.\u001b[0m\u001b[0mtell\u001b[0m\u001b[1;33m(\u001b[0m\u001b[0mnext_x\u001b[0m\u001b[1;33m,\u001b[0m \u001b[0mnext_y\u001b[0m\u001b[1;33m)\u001b[0m\u001b[1;33m\u001b[0m\u001b[1;33m\u001b[0m\u001b[0m\n\u001b[0m\u001b[0;32m    274\u001b[0m         \u001b[0mresult\u001b[0m\u001b[1;33m.\u001b[0m\u001b[0mspecs\u001b[0m \u001b[1;33m=\u001b[0m \u001b[0mspecs\u001b[0m\u001b[1;33m\u001b[0m\u001b[1;33m\u001b[0m\u001b[0m\n\u001b[0;32m    275\u001b[0m         \u001b[1;32mif\u001b[0m \u001b[0meval_callbacks\u001b[0m\u001b[1;33m(\u001b[0m\u001b[0mcallbacks\u001b[0m\u001b[1;33m,\u001b[0m \u001b[0mresult\u001b[0m\u001b[1;33m)\u001b[0m\u001b[1;33m:\u001b[0m\u001b[1;33m\u001b[0m\u001b[1;33m\u001b[0m\u001b[0m\n",
      "\u001b[1;32m~\\AppData\\Local\\Programs\\Python\\Python37\\lib\\site-packages\\skopt\\optimizer\\optimizer.py\u001b[0m in \u001b[0;36mtell\u001b[1;34m(self, x, y, fit)\u001b[0m\n\u001b[0;32m    451\u001b[0m                 \u001b[0my\u001b[0m\u001b[1;33m[\u001b[0m\u001b[1;36m1\u001b[0m\u001b[1;33m]\u001b[0m \u001b[1;33m=\u001b[0m \u001b[0mlog\u001b[0m\u001b[1;33m(\u001b[0m\u001b[0my\u001b[0m\u001b[1;33m[\u001b[0m\u001b[1;36m1\u001b[0m\u001b[1;33m]\u001b[0m\u001b[1;33m)\u001b[0m\u001b[1;33m\u001b[0m\u001b[1;33m\u001b[0m\u001b[0m\n\u001b[0;32m    452\u001b[0m \u001b[1;33m\u001b[0m\u001b[0m\n\u001b[1;32m--> 453\u001b[1;33m         \u001b[1;32mreturn\u001b[0m \u001b[0mself\u001b[0m\u001b[1;33m.\u001b[0m\u001b[0m_tell\u001b[0m\u001b[1;33m(\u001b[0m\u001b[0mx\u001b[0m\u001b[1;33m,\u001b[0m \u001b[0my\u001b[0m\u001b[1;33m,\u001b[0m \u001b[0mfit\u001b[0m\u001b[1;33m=\u001b[0m\u001b[0mfit\u001b[0m\u001b[1;33m)\u001b[0m\u001b[1;33m\u001b[0m\u001b[1;33m\u001b[0m\u001b[0m\n\u001b[0m\u001b[0;32m    454\u001b[0m \u001b[1;33m\u001b[0m\u001b[0m\n\u001b[0;32m    455\u001b[0m     \u001b[1;32mdef\u001b[0m \u001b[0m_tell\u001b[0m\u001b[1;33m(\u001b[0m\u001b[0mself\u001b[0m\u001b[1;33m,\u001b[0m \u001b[0mx\u001b[0m\u001b[1;33m,\u001b[0m \u001b[0my\u001b[0m\u001b[1;33m,\u001b[0m \u001b[0mfit\u001b[0m\u001b[1;33m=\u001b[0m\u001b[1;32mTrue\u001b[0m\u001b[1;33m)\u001b[0m\u001b[1;33m:\u001b[0m\u001b[1;33m\u001b[0m\u001b[1;33m\u001b[0m\u001b[0m\n",
      "\u001b[1;32m~\\AppData\\Local\\Programs\\Python\\Python37\\lib\\site-packages\\skopt\\optimizer\\optimizer.py\u001b[0m in \u001b[0;36m_tell\u001b[1;34m(self, x, y, fit)\u001b[0m\n\u001b[0;32m    494\u001b[0m             \u001b[1;32mwith\u001b[0m \u001b[0mwarnings\u001b[0m\u001b[1;33m.\u001b[0m\u001b[0mcatch_warnings\u001b[0m\u001b[1;33m(\u001b[0m\u001b[1;33m)\u001b[0m\u001b[1;33m:\u001b[0m\u001b[1;33m\u001b[0m\u001b[1;33m\u001b[0m\u001b[0m\n\u001b[0;32m    495\u001b[0m                 \u001b[0mwarnings\u001b[0m\u001b[1;33m.\u001b[0m\u001b[0msimplefilter\u001b[0m\u001b[1;33m(\u001b[0m\u001b[1;34m\"ignore\"\u001b[0m\u001b[1;33m)\u001b[0m\u001b[1;33m\u001b[0m\u001b[1;33m\u001b[0m\u001b[0m\n\u001b[1;32m--> 496\u001b[1;33m                 \u001b[0mest\u001b[0m\u001b[1;33m.\u001b[0m\u001b[0mfit\u001b[0m\u001b[1;33m(\u001b[0m\u001b[0mself\u001b[0m\u001b[1;33m.\u001b[0m\u001b[0mspace\u001b[0m\u001b[1;33m.\u001b[0m\u001b[0mtransform\u001b[0m\u001b[1;33m(\u001b[0m\u001b[0mself\u001b[0m\u001b[1;33m.\u001b[0m\u001b[0mXi\u001b[0m\u001b[1;33m)\u001b[0m\u001b[1;33m,\u001b[0m \u001b[0mself\u001b[0m\u001b[1;33m.\u001b[0m\u001b[0myi\u001b[0m\u001b[1;33m)\u001b[0m\u001b[1;33m\u001b[0m\u001b[1;33m\u001b[0m\u001b[0m\n\u001b[0m\u001b[0;32m    497\u001b[0m \u001b[1;33m\u001b[0m\u001b[0m\n\u001b[0;32m    498\u001b[0m             \u001b[1;32mif\u001b[0m \u001b[0mhasattr\u001b[0m\u001b[1;33m(\u001b[0m\u001b[0mself\u001b[0m\u001b[1;33m,\u001b[0m \u001b[1;34m\"next_xs_\"\u001b[0m\u001b[1;33m)\u001b[0m \u001b[1;32mand\u001b[0m \u001b[0mself\u001b[0m\u001b[1;33m.\u001b[0m\u001b[0macq_func\u001b[0m \u001b[1;33m==\u001b[0m \u001b[1;34m\"gp_hedge\"\u001b[0m\u001b[1;33m:\u001b[0m\u001b[1;33m\u001b[0m\u001b[1;33m\u001b[0m\u001b[0m\n",
      "\u001b[1;32m~\\AppData\\Local\\Programs\\Python\\Python37\\lib\\site-packages\\sklearn\\ensemble\\_forest.py\u001b[0m in \u001b[0;36mfit\u001b[1;34m(self, X, y, sample_weight)\u001b[0m\n\u001b[0;32m    294\u001b[0m         \u001b[1;31m# Validate or convert input data\u001b[0m\u001b[1;33m\u001b[0m\u001b[1;33m\u001b[0m\u001b[1;33m\u001b[0m\u001b[0m\n\u001b[0;32m    295\u001b[0m         \u001b[0mX\u001b[0m \u001b[1;33m=\u001b[0m \u001b[0mcheck_array\u001b[0m\u001b[1;33m(\u001b[0m\u001b[0mX\u001b[0m\u001b[1;33m,\u001b[0m \u001b[0maccept_sparse\u001b[0m\u001b[1;33m=\u001b[0m\u001b[1;34m\"csc\"\u001b[0m\u001b[1;33m,\u001b[0m \u001b[0mdtype\u001b[0m\u001b[1;33m=\u001b[0m\u001b[0mDTYPE\u001b[0m\u001b[1;33m)\u001b[0m\u001b[1;33m\u001b[0m\u001b[1;33m\u001b[0m\u001b[0m\n\u001b[1;32m--> 296\u001b[1;33m         \u001b[0my\u001b[0m \u001b[1;33m=\u001b[0m \u001b[0mcheck_array\u001b[0m\u001b[1;33m(\u001b[0m\u001b[0my\u001b[0m\u001b[1;33m,\u001b[0m \u001b[0maccept_sparse\u001b[0m\u001b[1;33m=\u001b[0m\u001b[1;34m'csc'\u001b[0m\u001b[1;33m,\u001b[0m \u001b[0mensure_2d\u001b[0m\u001b[1;33m=\u001b[0m\u001b[1;32mFalse\u001b[0m\u001b[1;33m,\u001b[0m \u001b[0mdtype\u001b[0m\u001b[1;33m=\u001b[0m\u001b[1;32mNone\u001b[0m\u001b[1;33m)\u001b[0m\u001b[1;33m\u001b[0m\u001b[1;33m\u001b[0m\u001b[0m\n\u001b[0m\u001b[0;32m    297\u001b[0m         \u001b[1;32mif\u001b[0m \u001b[0msample_weight\u001b[0m \u001b[1;32mis\u001b[0m \u001b[1;32mnot\u001b[0m \u001b[1;32mNone\u001b[0m\u001b[1;33m:\u001b[0m\u001b[1;33m\u001b[0m\u001b[1;33m\u001b[0m\u001b[0m\n\u001b[0;32m    298\u001b[0m             \u001b[0msample_weight\u001b[0m \u001b[1;33m=\u001b[0m \u001b[0m_check_sample_weight\u001b[0m\u001b[1;33m(\u001b[0m\u001b[0msample_weight\u001b[0m\u001b[1;33m,\u001b[0m \u001b[0mX\u001b[0m\u001b[1;33m)\u001b[0m\u001b[1;33m\u001b[0m\u001b[1;33m\u001b[0m\u001b[0m\n",
      "\u001b[1;32m~\\AppData\\Local\\Programs\\Python\\Python37\\lib\\site-packages\\sklearn\\utils\\validation.py\u001b[0m in \u001b[0;36mcheck_array\u001b[1;34m(array, accept_sparse, accept_large_sparse, dtype, order, copy, force_all_finite, ensure_2d, allow_nd, ensure_min_samples, ensure_min_features, warn_on_dtype, estimator)\u001b[0m\n\u001b[0;32m    576\u001b[0m         \u001b[1;32mif\u001b[0m \u001b[0mforce_all_finite\u001b[0m\u001b[1;33m:\u001b[0m\u001b[1;33m\u001b[0m\u001b[1;33m\u001b[0m\u001b[0m\n\u001b[0;32m    577\u001b[0m             _assert_all_finite(array,\n\u001b[1;32m--> 578\u001b[1;33m                                allow_nan=force_all_finite == 'allow-nan')\n\u001b[0m\u001b[0;32m    579\u001b[0m \u001b[1;33m\u001b[0m\u001b[0m\n\u001b[0;32m    580\u001b[0m     \u001b[1;32mif\u001b[0m \u001b[0mensure_min_samples\u001b[0m \u001b[1;33m>\u001b[0m \u001b[1;36m0\u001b[0m\u001b[1;33m:\u001b[0m\u001b[1;33m\u001b[0m\u001b[1;33m\u001b[0m\u001b[0m\n",
      "\u001b[1;32m~\\AppData\\Local\\Programs\\Python\\Python37\\lib\\site-packages\\sklearn\\utils\\validation.py\u001b[0m in \u001b[0;36m_assert_all_finite\u001b[1;34m(X, allow_nan, msg_dtype)\u001b[0m\n\u001b[0;32m     58\u001b[0m                     \u001b[0mmsg_err\u001b[0m\u001b[1;33m.\u001b[0m\u001b[0mformat\u001b[0m\u001b[1;33m\u001b[0m\u001b[1;33m\u001b[0m\u001b[0m\n\u001b[0;32m     59\u001b[0m                     (type_err,\n\u001b[1;32m---> 60\u001b[1;33m                      msg_dtype if msg_dtype is not None else X.dtype)\n\u001b[0m\u001b[0;32m     61\u001b[0m             )\n\u001b[0;32m     62\u001b[0m     \u001b[1;31m# for object dtype data, we only check for NaNs (GH-13254)\u001b[0m\u001b[1;33m\u001b[0m\u001b[1;33m\u001b[0m\u001b[1;33m\u001b[0m\u001b[0m\n",
      "\u001b[1;31mValueError\u001b[0m: Input contains NaN, infinity or a value too large for dtype('float64')."
     ]
    }
   ],
   "source": [
    "# Bayesian Optimazation\n",
    "from skopt import forest_minimize\n",
    "\n",
    "def tune_lgbm(params):\n",
    "    \n",
    "    lr = params[0]\n",
    "    max_depth = params[1]\n",
    "    min_child_samples = params[2]\n",
    "    subsample = params[3]\n",
    "    colsample_bytree = params[4]\n",
    "    n_estimators = params[5]\n",
    "\n",
    "    model = LGBMClassifier(learning_rate=lr, num_leaves = 2 ** max_depth, \n",
    "                           max_depth=max_depth, n_estimators=n_estimators,\n",
    "                           min_child_samples=min_child_samples, random_state=0,\n",
    "                           colsample_bytree = colsample_bytree, bagging_freq=1,\n",
    "                           )\n",
    "    \n",
    "    model.fit(x_treino, y_treino)\n",
    "    preds = model.predict(x_val)\n",
    "    \n",
    "    #print(roc_auc_score(y_val, preds))\n",
    "    # Testar - media entre roc + apc\n",
    "    \n",
    "    return -average_precision_score(preds, y_val)\n",
    "\n",
    "space = [(1e-3, 1e-1, 'log-uniform'),# Learning Rate\n",
    "         (1, 10),      # Max_depth\n",
    "         (1, 20),      #Min_child_Samples\n",
    "         (0.05, 1.),   #Subsample\n",
    "         (0.05, 1.),   #Colsample_bytree\n",
    "         (100, 1000)]  #N_estimators\n",
    "\n",
    "res = forest_minimize(tune_lgbm, space, random_state=160,\n",
    "                      n_random_starts=20, n_calls=40)"
   ]
  },
  {
   "cell_type": "code",
   "execution_count": 99,
   "metadata": {},
   "outputs": [
    {
     "name": "stdout",
     "output_type": "stream",
     "text": [
      "==============================\n",
      "Model summary:\n",
      "Avarege precision: 0.6\n",
      "Roc: 0.875\n",
      "==============================\n"
     ]
    }
   ],
   "source": [
    "# Logistic Regression\n",
    "data3 = data2.copy()\n",
    "\n",
    "data3.drop('y', axis=1, inplace=True)\n",
    "\n",
    "# Scalando todos os valores\n",
    "max_ab = MaxAbsScaler().fit(data3.values)\n",
    "data3 = max_ab.transform(data3)\n",
    "\n",
    "x = data3\n",
    "y = data2['y']\n",
    "\n",
    "x_treino, x_val, y_treino, y_val = train_test_split(x, y, test_size=0.3)\n",
    "\n",
    "model = LogisticRegression(C=10)\n",
    "model.fit(x_treino, y_treino)\n",
    "preds = model.predict(x_val)\n",
    "avaliar_modelo(preds, y_val)"
   ]
  },
  {
   "cell_type": "code",
   "execution_count": 74,
   "metadata": {},
   "outputs": [
    {
     "data": {
      "text/plain": [
       "['lgbm.pkl.z']"
      ]
     },
     "execution_count": 74,
     "metadata": {},
     "output_type": "execute_result"
    }
   ],
   "source": [
    "# Ensemble final!\n",
    "import joblib as jb\n",
    "\n",
    "jb.dump(model_rf, 'randodm_forest.pkl.z')\n",
    "jb.dump(model_lgb, 'lgbm.pkl.z')"
   ]
  }
 ],
 "metadata": {
  "kernelspec": {
   "display_name": "Python 3.7.4 64-bit",
   "language": "python",
   "name": "python37464bit19f7f6f2a960497c82206346eefb1f66"
  },
  "language_info": {
   "codemirror_mode": {
    "name": "ipython",
    "version": 3
   },
   "file_extension": ".py",
   "mimetype": "text/x-python",
   "name": "python",
   "nbconvert_exporter": "python",
   "pygments_lexer": "ipython3",
   "version": "3.7.4"
  }
 },
 "nbformat": 4,
 "nbformat_minor": 2
}
